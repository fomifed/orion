{
 "cells": [
  {
   "cell_type": "code",
   "execution_count": 251,
   "metadata": {},
   "outputs": [],
   "source": [
    "\n",
    "import matplotlib.pyplot as plt\n",
    "import numpy as np\n",
    "import statsmodels.api as sm\n",
    "import statsmodels.graphics.utils as utils\n",
    "from ipywidgets import interact, interactive, fixed, interact_manual\n",
    "import ipywidgets as widgets"
   ]
  },
  {
   "cell_type": "code",
   "execution_count": 223,
   "metadata": {},
   "outputs": [],
   "source": [
    "import numpy as np\n",
    "import statsmodels.graphics.utils \n",
    "\n",
    "\n",
    "def mean_diff_plot(m1, m2, sd_limit=1.96, ax=None, scatter_kwds=None,\n",
    "                   mean_line_kwds=None, limit_lines_kwds=None):\n",
    "    \"\"\"\n",
    "    Construct a Tukey/Bland-Altman Mean Difference Plot.\n",
    "\n",
    "    Tukey's Mean Difference Plot (also known as a Bland-Altman plot) is a\n",
    "    graphical method to analyze the differences between two methods of\n",
    "    measurement. The mean of the measures is plotted against their difference.\n",
    "\n",
    "    For more information see\n",
    "    https://en.wikipedia.org/wiki/Bland-Altman_plot\n",
    "\n",
    "    Parameters\n",
    "    ----------\n",
    "    m1 : array_like\n",
    "        A 1-d array.\n",
    "    m2 : array_like\n",
    "        A 1-d array.\n",
    "    sd_limit : float\n",
    "        The limit of agreements expressed in terms of the standard deviation of\n",
    "        the differences. If `md` is the mean of the differences, and `sd` is\n",
    "        the standard deviation of those differences, then the limits of\n",
    "        agreement that will be plotted are md +/- sd_limit * sd.\n",
    "        The default of 1.96 will produce 95% confidence intervals for the means\n",
    "        of the differences. If sd_limit = 0, no limits will be plotted, and\n",
    "        the ylimit of the plot defaults to 3 standard deviations on either\n",
    "        side of the mean.\n",
    "    ax : AxesSubplot\n",
    "        If `ax` is None, then a figure is created. If an axis instance is\n",
    "        given, the mean difference plot is drawn on the axis.\n",
    "    scatter_kwds : dict\n",
    "        Options to to style the scatter plot. Accepts any keywords for the\n",
    "        matplotlib Axes.scatter plotting method\n",
    "    mean_line_kwds : dict\n",
    "        Options to to style the scatter plot. Accepts any keywords for the\n",
    "        matplotlib Axes.axhline plotting method\n",
    "    limit_lines_kwds : dict\n",
    "        Options to to style the scatter plot. Accepts any keywords for the\n",
    "        matplotlib Axes.axhline plotting method\n",
    "\n",
    "    Returns\n",
    "    -------\n",
    "    Figure\n",
    "        If `ax` is None, the created figure.  Otherwise the figure to which\n",
    "        `ax` is connected.\n",
    "\n",
    "    References\n",
    "    ----------\n",
    "    Bland JM, Altman DG (1986). \"Statistical methods for assessing agreement\n",
    "    between two methods of clinical measurement\"\n",
    "\n",
    "    Examples\n",
    "    --------\n",
    "\n",
    "    Load relevant libraries.\n",
    "\n",
    "    >>> import statsmodels.api as sm\n",
    "    >>> import numpy as np\n",
    "    >>> import matplotlib.pyplot as plt\n",
    "\n",
    "    Making a mean difference plot.\n",
    "\n",
    "    >>> # Seed the random number generator.\n",
    "    >>> # This ensures that the results below are reproducible.\n",
    "    >>> np.random.seed(9999)\n",
    "    >>> m1 = np.random.random(20)\n",
    "    >>> m2 = np.random.random(20)\n",
    "    >>> f, ax = plt.subplots(1, figsize = (8,5))\n",
    "    >>> sm.graphics.mean_diff_plot(m1, m2, ax = ax)\n",
    "    >>> plt.show()\n",
    "\n",
    "    .. plot:: plots/graphics-mean_diff_plot.py\n",
    "    \"\"\"\n",
    "    fig, ax = utils.create_mpl_ax(ax)\n",
    "\n",
    "    if len(m1) != len(m2):\n",
    "        raise ValueError('m1 does not have the same length as m2.')\n",
    "    if sd_limit < 0:\n",
    "        raise ValueError('sd_limit ({}) is less than 0.'.format(sd_limit))\n",
    "\n",
    "    means = np.mean([m1, m2], axis=0)\n",
    "    diffs = m1 - m2\n",
    "    mean_diff = np.mean(diffs)\n",
    "    std_diff = np.std(diffs, axis=0)\n",
    "\n",
    "    scatter_kwds = scatter_kwds or {}\n",
    "    if 's' not in scatter_kwds:\n",
    "        scatter_kwds['s'] = 20\n",
    "    mean_line_kwds = mean_line_kwds or {}\n",
    "    limit_lines_kwds = limit_lines_kwds or {}\n",
    "    for kwds in [mean_line_kwds, limit_lines_kwds]:\n",
    "        if 'color' not in kwds:\n",
    "            kwds['color'] = 'gray'\n",
    "        if 'linewidth' not in kwds:\n",
    "            kwds['linewidth'] = 1\n",
    "    if 'linestyle' not in mean_line_kwds:\n",
    "        kwds['linestyle'] = '--'\n",
    "    if 'linestyle' not in limit_lines_kwds:\n",
    "        kwds['linestyle'] = ':'\n",
    "\n",
    "    ax.scatter(means, diffs, **scatter_kwds) # Plot the means against the diffs.\n",
    "    ax.axhline(mean_diff, **mean_line_kwds)  # draw mean line.\n",
    "\n",
    "    # Annotate mean line with mean difference.\n",
    "    ax.annotate('mean diff:\\n{}'.format(np.round(mean_diff, 2)),\n",
    "                xy=(1.2, 0.5),\n",
    "                horizontalalignment='right',\n",
    "                verticalalignment='center',\n",
    "                fontsize=14,\n",
    "                xycoords='axes fraction')\n",
    "\n",
    "    if sd_limit > 0:\n",
    "        half_ylim = (1.5 * sd_limit) * std_diff\n",
    "        ax.set_ylim(mean_diff - half_ylim,\n",
    "                    mean_diff + half_ylim)\n",
    "        limit_of_agreement = sd_limit * std_diff\n",
    "        lower = mean_diff - limit_of_agreement\n",
    "        upper = mean_diff + limit_of_agreement\n",
    "        for j, lim in enumerate([lower, upper]):\n",
    "            ax.axhline(lim, **limit_lines_kwds)\n",
    "        ax.annotate('-SD{}: {}'.format(sd_limit, np.round(lower, 2)),\n",
    "                    xy=(0.99, 0.07),\n",
    "                    horizontalalignment='right',\n",
    "                    verticalalignment='bottom',\n",
    "                    fontsize=14,\n",
    "                    xycoords='axes fraction')\n",
    "        ax.annotate('+SD{}: {}'.format(sd_limit, np.round(upper, 2)),\n",
    "                    xy=(0.99, 0.92),\n",
    "                    horizontalalignment='right',\n",
    "                    fontsize=14,\n",
    "                    xycoords='axes fraction')\n",
    "\n",
    "    elif sd_limit == 0:\n",
    "        half_ylim = 3 * std_diff\n",
    "        ax.set_ylim(mean_diff - half_ylim,\n",
    "                    mean_diff + half_ylim)\n",
    "\n",
    "    ax.set_ylabel('Difference', fontsize=15)\n",
    "    ax.set_xlabel('Means', fontsize=15)\n",
    "    ax.tick_params(labelsize=13)\n",
    "    fig.tight_layout()\n",
    "    return fig"
   ]
  },
  {
   "cell_type": "code",
   "execution_count": null,
   "metadata": {},
   "outputs": [],
   "source": []
  },
  {
   "cell_type": "code",
   "execution_count": 67,
   "metadata": {},
   "outputs": [],
   "source": [
    "data=np.genfromtxt('orion.txt', delimiter=',')\n"
   ]
  },
  {
   "cell_type": "code",
   "execution_count": null,
   "metadata": {},
   "outputs": [],
   "source": []
  },
  {
   "cell_type": "code",
   "execution_count": 60,
   "metadata": {},
   "outputs": [],
   "source": [
    "diff=[]\n",
    "\n",
    "for i in range (0, 12, 2):\n",
    "    index=i/2\n",
    "    differ=list(data[i+1]-data[i])\n",
    "    diff.append(differ)\n",
    "diff=np.array(diff)"
   ]
  },
  {
   "cell_type": "code",
   "execution_count": 63,
   "metadata": {},
   "outputs": [
    {
     "data": {
      "text/plain": [
       "(24, 65)"
      ]
     },
     "execution_count": 63,
     "metadata": {},
     "output_type": "execute_result"
    }
   ],
   "source": [
    "for i in range (0,65):\n",
    "    for j in range (0,24,2):\n",
    "        "
   ]
  },
  {
   "cell_type": "code",
   "execution_count": 246,
   "metadata": {},
   "outputs": [],
   "source": [
    "\n",
    "f=open(\"dict.txt\",'r')\n",
    "labels=f.read()\n",
    "f.close()\n",
    "splitted=labels.split(sep=\"\\t\")\n",
    "labels=splitted[0:65]\n",
    "values=splitted[65:134]\n",
    "num_values=[int(each) for each in values]\n",
    "labels_dict=dict(zip(labels, num_values))"
   ]
  },
  {
   "cell_type": "code",
   "execution_count": null,
   "metadata": {},
   "outputs": [],
   "source": []
  },
  {
   "cell_type": "code",
   "execution_count": 263,
   "metadata": {
    "hide_input": true
   },
   "outputs": [
    {
     "data": {
      "application/vnd.jupyter.widget-view+json": {
       "model_id": "c2191b02082b4df9b0bc590acc7e528c",
       "version_major": 2,
       "version_minor": 0
      },
      "text/plain": [
       "interactive(children=(Dropdown(description='Зубец', options=('Axis', 'P_2', 'Q_2', 'R_2', 'S_2', 'Rz_2', 'Sz_2…"
      ]
     },
     "metadata": {},
     "output_type": "display_data"
    }
   ],
   "source": [
    "def bland_altman (label):\n",
    "    index=labels_dict.get(label, 100)\n",
    "    if index==100:\n",
    "        return (\"Wrong key\")\n",
    "    ref=[]\n",
    "    test=[]\n",
    "    for i in range (0, 24, 2):\n",
    "        ref.append(data[i,index])\n",
    "        test.append(data[i+1, index])\n",
    "    ref=np.array(ref)\n",
    "    test=np.array(test)\n",
    "    sd=np.std(test)+np.std(ref)\n",
    "    if sd==0:\n",
    "        return (\"Слишком мало измерений\")\n",
    "    f, ax = plt.subplots(1, figsize = (10,5))   \n",
    "    mean_diff_plot(ref, test, ax=ax)\n",
    "    plt.title(label)\n",
    "interact(bland_altman, label=widgets.Dropdown(options=labels, description=\"Зубец\"));    "
   ]
  },
  {
   "cell_type": "code",
   "execution_count": null,
   "metadata": {},
   "outputs": [],
   "source": [
    "\n"
   ]
  },
  {
   "cell_type": "code",
   "execution_count": null,
   "metadata": {},
   "outputs": [],
   "source": []
  },
  {
   "cell_type": "code",
   "execution_count": null,
   "metadata": {},
   "outputs": [],
   "source": []
  },
  {
   "cell_type": "code",
   "execution_count": null,
   "metadata": {},
   "outputs": [],
   "source": []
  }
 ],
 "metadata": {
  "hide_input": true,
  "kernelspec": {
   "display_name": "Python 3",
   "language": "python",
   "name": "python3"
  },
  "language_info": {
   "codemirror_mode": {
    "name": "ipython",
    "version": 3
   },
   "file_extension": ".py",
   "mimetype": "text/x-python",
   "name": "python",
   "nbconvert_exporter": "python",
   "pygments_lexer": "ipython3",
   "version": "3.8.3"
  }
 },
 "nbformat": 4,
 "nbformat_minor": 4
}
